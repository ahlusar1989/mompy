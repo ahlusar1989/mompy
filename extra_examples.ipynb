{
 "cells": [
  {
   "cell_type": "markdown",
   "metadata": {},
   "source": [
    "# Extra examples\n",
    "We work through several more examples in this worksheet: mixture of Gaussians and maxcut. See [the basic worksheet](polynomial_optimization.ipynb) for setups, references, and simpler examples."
   ]
  },
  {
   "cell_type": "code",
   "execution_count": 1,
   "metadata": {
    "collapsed": true
   },
   "outputs": [],
   "source": [
    "# we are dependent on numpy, sympy and cvxopt.\n",
    "import numpy as np\n",
    "import cvxopt\n",
    "import mompy as mp\n",
    "\n",
    "# just some basic settings and setup\n",
    "mp.cvxsolvers.options['show_progress'] = False\n",
    "from IPython.display import display, Markdown, Math, display_markdown\n",
    "sp.init_printing()\n",
    "\n",
    "def print_problem(obj, constraints = None, moment_constraints = None):\n",
    "    display_markdown(mp.problem_to_str(obj,constraints,moment_constraints, False), raw=True)"
   ]
  },
  {
   "cell_type": "markdown",
   "metadata": {},
   "source": [
    "## Noiseless mixture of 2 Gaussians in 1D\n",
    "\n",
    "This is original problem considered by Pearson, and we will solve it as an optimization problem.\n",
    "\n",
    "K. Pearson. Contributions to the mathematical theory of evolution. Philosophical Transactions of the Royal Society of London. A, 185:71–110, 1894.\n",
    "\n",
    "We have two Gaussians with means $\\xi_1, \\xi_2$ and variances $c_1, c_2$, mixing coefficients $\\pi_1, \\pi_2$. So that $x \\sim \\pi_1 p(x; \\xi_1, c_1) + \\pi_2 p(x; \\xi_2, c_2)$ where $p$ is the density function of the normal distribution.\n",
    "\n",
    "More details can be found in our paper: [Estimating mixture models via mixtures of polynomials](http://papers.nips.cc/paper/5702-estimating-mixture-models-via-mixtures-of-polynomials.pdf).\n"
   ]
  },
  {
   "cell_type": "code",
   "execution_count": 2,
   "metadata": {
    "collapsed": false
   },
   "outputs": [
    {
     "data": {
      "image/png": "[encoded data removed]",
      "text/latex": [
       "$$\\left [ \\xi, \\quad c + \\xi^{2}, \\quad 3 c \\xi + \\xi^{3}, \\quad 3 c^{2} + 6 c \\xi^{2} + \\xi^{4}, \\quad 15 c^{2} \\xi + 10 c \\xi^{3} + \\xi^{5}, \\quad 15 c^{3} + 45 c^{2} \\xi^{2} + 15 c \\xi^{4} + \\xi^{6}\\right ]$$"
      ],
      "text/plain": [
       "⎡        2           3     2        2    4      2           3    5      3     \n",
       "⎣ξ, c + ξ , 3⋅c⋅ξ + ξ , 3⋅c  + 6⋅c⋅ξ  + ξ , 15⋅c ⋅ξ + 10⋅c⋅ξ  + ξ , 15⋅c  + 45\n",
       "\n",
       "  2  2         4    6⎤\n",
       "⋅c ⋅ξ  + 15⋅c⋅ξ  + ξ ⎦"
      ]
     },
     "metadata": {},
     "output_type": "display_data"
    },
    {
     "data": {
      "text/markdown": [
       "Minimizing $\\mathcal{L}(c^{2} + c \\xi^{2} + c + \\xi^{4} + \\xi^{2} + 1)$\n",
       "\n",
       "subject to \t $c \\geq 0$, \t\n",
       "$\\mathcal{L}(\\xi + 0.14) = 0$, \t$\\mathcal{L}(c + \\xi^{2} - 1.406) = 0$, \t$\\mathcal{L}(3 c \\xi + \\xi^{3} + 0.5294) = 0$, \t$\\mathcal{L}(3 c^{2} + 6 c \\xi^{2} + \\xi^{4} - 4.34326) = 0$, \t$\\mathcal{L}(15 c^{2} \\xi + 10 c \\xi^{3} + \\xi^{5} + 2.934694) = 0$, \t$\\mathcal{L}(15 c^{3} + 45 c^{2} \\xi^{2} + 15 c \\xi^{4} + \\xi^{6} - 19.7430046) = 0$, \t"
      ]
     },
     "metadata": {},
     "output_type": "display_data"
    },
    {
     "name": "stdout",
     "output_type": "stream",
     "text": [
      "the maximum degree appearing in the problem is 4\n",
      "slacks\n",
      "0.001\n",
      "status: optimal\n",
      "round=1,\t rank=4,\t size=6,\t obj=3.929\n",
      "slacks\n",
      "0.001\n",
      "status: optimal\n",
      "round=2,\t rank=4,\t size=10,\t obj=3.931\n"
     ]
    },
    {
     "data": {
      "text/plain": [
       "{c: array([ 0.40002654,  0.5999915 ]), xi: array([ 0.9999003 , -0.89989815])}"
      ]
     },
     "metadata": {},
     "output_type": "display_data"
    },
    {
     "name": "stdout",
     "output_type": "stream",
     "text": [
      "the truth: {c: [0.4, 0.6], xi: [1, -0.9]}\n"
     ]
    }
   ],
   "source": [
    "xi,c = sp.symbols('xi,c')\n",
    "K = 2 # number of clusters\n",
    "xi0 = [1, -0.9] # true parameters\n",
    "c0 = [0.4, 0.6]\n",
    "pi0 = [0.4, 0.6]\n",
    "\n",
    "moment_exprs = [xi, xi**2 + c, xi**3 + 3*xi*c, xi**4 + 6*xi**2 * c + 3*c**2,\\\n",
    "          xi**5 + 10*xi**3*c + 15*xi*c**2,\\\n",
    "          xi**6 + 15*xi**4*c**1 + 45*xi**2*c**2  + 15*c**3 ,\\\n",
    "          xi**7 + 21*xi**5*c**1 + 105*xi**3*c**2  + 105*xi*c**3]\n",
    "moment_exprs = moment_exprs[0:6]\n",
    "#print 'Gaussian moments are '\n",
    "display(moment_exprs)\n",
    "\n",
    "# construct the true constraints\n",
    "hs = []\n",
    "for expr in moment_exprs:\n",
    "    val = 0\n",
    "    for k in range(K):\n",
    "        val += pi0[k]*expr.subs({xi:xi0[k], c:c0[k]})\n",
    "    hs += [expr - val]\n",
    "hs_true = hs\n",
    "# we will minimize some kind of a trace..\n",
    "f = 1 + xi**2 + c + c**2 + xi**4 + c*xi**2\n",
    "gs = [c>=0]\n",
    "print_problem(f, gs, hs)\n",
    "sol = mp.solvers.solve_GMP(f, gs, hs, rounds = 2, slack=1e-3)\n",
    "display(mp.extractors.extract_solutions_lasserre(sol['MM'], sol['x'], 2, tol = 1e-5, maxdeg=2))\n",
    "print 'the truth: ' + str({c:c0, xi:xi0})"
   ]
  },
  {
   "cell_type": "code",
   "execution_count": 3,
   "metadata": {
    "collapsed": false
   },
   "outputs": [
    {
     "data": {
      "text/plain": [
       "array([[ 1.        ,  0.52000032, -0.14      ],\n",
       "       [ 0.52000032,  0.28000039, -0.16399987],\n",
       "       [-0.14      , -0.16399987,  0.88599968]])"
      ]
     },
     "execution_count": 3,
     "metadata": {},
     "output_type": "execute_result"
    }
   ],
   "source": [
    "sol['MM'].numeric_instance(sol['x'],1)"
   ]
  },
  {
   "cell_type": "markdown",
   "metadata": {},
   "source": [
    "## Noisy mixture of Gaussian\n",
    "\n",
    "Now we draw a bunch of samples, and repeat the above experiment. "
   ]
  },
  {
   "cell_type": "code",
   "execution_count": 4,
   "metadata": {
    "collapsed": false
   },
   "outputs": [
    {
     "data": {
      "image/png": "[encoded data removed]",
      "text/plain": [
       "<matplotlib.figure.Figure at 0x10ab78090>"
      ]
     },
     "metadata": {},
     "output_type": "display_data"
    }
   ],
   "source": [
    "# draw some samples\n",
    "numsample = 1e5\n",
    "np.random.seed(1)\n",
    "z = (np.random.rand(numsample) < pi0[0]).astype('int8')\n",
    "means = xi0[0]*z + xi0[1]*(1-z)\n",
    "stds = np.sqrt(c0[0]*z + c0[1]*(1-z))\n",
    "Xs = means + stds * np.random.randn(numsample)\n",
    "\n",
    "import matplotlib.pyplot as plt\n",
    "%matplotlib inline\n",
    "plt.hist(Xs, 50);"
   ]
  },
  {
   "cell_type": "code",
   "execution_count": 5,
   "metadata": {
    "collapsed": false
   },
   "outputs": [
    {
     "data": {
      "text/markdown": [
       "Minimizing $\\mathcal{L}(c^{2} + c \\xi^{2} + c + \\xi^{4} + \\xi^{2} + 1)$\n",
       "\n",
       "subject to \t $c \\geq 0.1$, \t\n",
       "$\\mathcal{L}(\\xi + 0.133161603900389) = 0$, \t$\\mathcal{L}(c + \\xi^{2} - 1.40251833763525) = 0$, \t$\\mathcal{L}(3 c \\xi + \\xi^{3} + 0.496987978395773) = 0$, \t$\\mathcal{L}(3 c^{2} + 6 c \\xi^{2} + \\xi^{4} - 4.30027499330449) = 0$, \t$\\mathcal{L}(15 c^{2} \\xi + 10 c \\xi^{3} + \\xi^{5} + 2.72610631699892) = 0$, \t$\\mathcal{L}(15 c^{3} + 45 c^{2} \\xi^{2} + 15 c \\xi^{4} + \\xi^{6} - 19.3575469937392) = 0$, \t"
      ]
     },
     "metadata": {},
     "output_type": "display_data"
    },
    {
     "name": "stdout",
     "output_type": "stream",
     "text": [
      "the maximum degree appearing in the problem is 4\n",
      "slacks\n",
      "1e-05\n",
      "status: optimal\n",
      "round=1,\t rank=4,\t size=6,\t obj=3.920\n",
      "slacks\n",
      "1e-05\n",
      "status: optimal\n",
      "round=2,\t rank=4,\t size=10,\t obj=3.921\n",
      "slacks\n",
      "1e-05\n",
      "status: optimal\n",
      "round=3,\t rank=8,\t size=15,\t obj=3.921\n",
      "slacks\n",
      "1e-05\n",
      "status: optimal\n",
      "round=4,\t rank=13,\t size=21,\t obj=3.921\n"
     ]
    },
    {
     "data": {
      "text/plain": [
       "{c: array([ 0.40670633,  0.58659616]), xi: array([ 0.99241976, -0.9023739 ])}"
      ]
     },
     "metadata": {},
     "output_type": "display_data"
    },
    {
     "name": "stdout",
     "output_type": "stream",
     "text": [
      "the truth: {c: [0.4, 0.6], xi: [1, -0.9]}\n"
     ]
    }
   ],
   "source": [
    "# construct the empirical constraints\n",
    "hs = []\n",
    "for d,expr in enumerate(moment_exprs):\n",
    "    val = np.mean(np.power(Xs,d+1))\n",
    "    hs += [expr - val]\n",
    "    \n",
    "# we will minimize some kind of a trace..\n",
    "f = 1 + xi**2 + c + c**2 + xi**4 + c*xi**2\n",
    "gs = [c>=0.1]\n",
    "print_problem(f, gs, hs)\n",
    "sol = mp.solvers.solve_GMP(f, gs, hs, rounds = 4, slack = 1e-5)\n",
    "display(mp.extractors.extract_solutions_lasserre(sol['MM'], sol['x'], 2, tol = 1e-5, maxdeg=2))\n",
    "print 'the truth: ' + str({c:c0, xi:xi0})"
   ]
  },
  {
   "cell_type": "markdown",
   "metadata": {},
   "source": [
    "## PSD max-cut\n",
    "This is the problem $\\text{minimize} -x^T W x$ subject to constraints $x_i \\in \\{-1,1\\}$ for a positive definite random matrix $W$."
   ]
  },
  {
   "cell_type": "code",
   "execution_count": 6,
   "metadata": {
    "collapsed": false
   },
   "outputs": [
    {
     "data": {
      "text/markdown": [
       "Minimizing $\\mathcal{L}(- 2.63849786045427 x_{1}^{2} - 2.8159621181607 x_{1} x_{2} + 1.5444882222147 x_{1} x_{3} - 2.36029763522308 x_{1} x_{4} + 1.90496846588222 x_{1} x_{5} - 3.04436809254823 x_{2}^{2} - 3.13638664976909 x_{2} x_{3} + 0.110022678943274 x_{2} x_{4} + 0.570920362681197 x_{2} x_{5} - 0.103952853443888 x_{3}^{2} - 0.674290696370057 x_{3} x_{4} - 2.0443920170026 x_{3} x_{5} - 0.00178200041176822 x_{4}^{2} - 0.585722691036166 x_{4} x_{5} - 0.811541441325085 x_{5}^{2})$\n",
       "\n",
       "subject to \t $x_{1}^{2} \\geq 1$, \t $x_{2}^{2} \\geq 1$, \t $x_{3}^{2} \\geq 1$, \t $x_{4}^{2} \\geq 1$, \t $x_{5}^{2} \\geq 1$, \t $x_{1}^{2} \\leq 1$, \t $x_{2}^{2} \\leq 1$, \t $x_{3}^{2} \\leq 1$, \t $x_{4}^{2} \\leq 1$, \t $x_{5}^{2} \\leq 1$, \t\n"
      ]
     },
     "metadata": {},
     "output_type": "display_data"
    },
    {
     "name": "stdout",
     "output_type": "stream",
     "text": [
      "the maximum degree appearing in the problem is 2\n",
      "slacks\n",
      "1e-06\n",
      "status: optimal\n",
      "round=1,\t rank=3,\t size=6,\t obj=-15.740\n",
      "slacks\n",
      "1e-06\n",
      "status: optimal\n",
      "round=2,\t rank=18,\t size=21,\t obj=-15.740\n",
      "slacks\n",
      "1e-06\n",
      "status: optimal\n",
      "round=3,\t rank=37,\t size=56,\t obj=-14.087\n",
      "lost 0.0000002\n"
     ]
    },
    {
     "data": {
      "text/plain": [
       "{x5: array([ 0.99999999, -0.99999999]),\n",
       " x3: array([ 1., -1.]),\n",
       " x4: array([ 0.99999999, -0.99999999]),\n",
       " x1: array([ 0.99999999, -0.99999999]),\n",
       " x2: array([ 1., -1.])}"
      ]
     },
     "execution_count": 6,
     "metadata": {},
     "output_type": "execute_result"
    }
   ],
   "source": [
    "size = 5\n",
    "np.random.seed(1)\n",
    "xs = sp.symbols('x1:'+str(size+1))\n",
    "Wh = np.random.randn(size,size)\n",
    "W = -Wh*Wh.T;\n",
    "gs = [x**2 >=1 for x in xs] + [x**2 <=1 for x in xs]\n",
    "fs = [ w * xs[ij[0]] * xs[ij[1]]  for ij,w in np.ndenumerate(W) ]\n",
    "f = sum(fs)\n",
    "print_problem(f, gs)\n",
    "\n",
    "sol = mp.solvers.solve_GMP(f, gs, rounds = 3)\n",
    "mp.extractors.extract_solutions_lasserre(sol['MM'], sol['x'], 2, maxdeg = 2)"
   ]
  }
 ],
 "metadata": {
  "kernelspec": {
   "display_name": "Python 2",
   "language": "python",
   "name": "python2"
  },
  "language_info": {
   "codemirror_mode": {
    "name": "ipython",
    "version": 2
   },
   "file_extension": ".py",
   "mimetype": "text/x-python",
   "name": "python",
   "nbconvert_exporter": "python",
   "pygments_lexer": "ipython2",
   "version": "2.7.9"
  }
 },
 "nbformat": 4,
 "nbformat_minor": 0
}
